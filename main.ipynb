{
 "cells": [
  {
   "cell_type": "markdown",
   "metadata": {},
   "source": [
    "##### Projeto Integrador 1 - Análise de dados \n",
    "\n"
   ]
  },
  {
   "cell_type": "code",
   "execution_count": null,
   "metadata": {},
   "outputs": [],
   "source": [
    "# Passos para análise de dados:\n",
    "# Passo 1: Importar os dados\n",
    "# Passo 2: Visualizar a base\n",
    "# Passo 3: Tratamento de erros (resolver erros da base)\n",
    "# Passo 4: Análise inicial dos dados\n",
    "# Passo 5: Análise profunda dos dados"
   ]
  },
  {
   "cell_type": "code",
   "execution_count": 17,
   "metadata": {},
   "outputs": [
    {
     "data": {
      "text/html": [
       "<div>\n",
       "<style scoped>\n",
       "    .dataframe tbody tr th:only-of-type {\n",
       "        vertical-align: middle;\n",
       "    }\n",
       "\n",
       "    .dataframe tbody tr th {\n",
       "        vertical-align: top;\n",
       "    }\n",
       "\n",
       "    .dataframe thead th {\n",
       "        text-align: right;\n",
       "    }\n",
       "</style>\n",
       "<table border=\"1\" class=\"dataframe\">\n",
       "  <thead>\n",
       "    <tr style=\"text-align: right;\">\n",
       "      <th></th>\n",
       "      <th>id</th>\n",
       "      <th>room_id/id</th>\n",
       "      <th>noted_date</th>\n",
       "      <th>temp</th>\n",
       "      <th>out/in</th>\n",
       "    </tr>\n",
       "  </thead>\n",
       "  <tbody>\n",
       "    <tr>\n",
       "      <th>0</th>\n",
       "      <td>__export__.temp_log_196134_bd201015</td>\n",
       "      <td>Room Admin</td>\n",
       "      <td>08-12-2018 09:30</td>\n",
       "      <td>29</td>\n",
       "      <td>In</td>\n",
       "    </tr>\n",
       "    <tr>\n",
       "      <th>1</th>\n",
       "      <td>__export__.temp_log_196131_7bca51bc</td>\n",
       "      <td>Room Admin</td>\n",
       "      <td>08-12-2018 09:30</td>\n",
       "      <td>29</td>\n",
       "      <td>In</td>\n",
       "    </tr>\n",
       "    <tr>\n",
       "      <th>2</th>\n",
       "      <td>__export__.temp_log_196127_522915e3</td>\n",
       "      <td>Room Admin</td>\n",
       "      <td>08-12-2018 09:29</td>\n",
       "      <td>41</td>\n",
       "      <td>Out</td>\n",
       "    </tr>\n",
       "    <tr>\n",
       "      <th>3</th>\n",
       "      <td>__export__.temp_log_196128_be0919cf</td>\n",
       "      <td>Room Admin</td>\n",
       "      <td>08-12-2018 09:29</td>\n",
       "      <td>41</td>\n",
       "      <td>Out</td>\n",
       "    </tr>\n",
       "    <tr>\n",
       "      <th>4</th>\n",
       "      <td>__export__.temp_log_196126_d30b72fb</td>\n",
       "      <td>Room Admin</td>\n",
       "      <td>08-12-2018 09:29</td>\n",
       "      <td>31</td>\n",
       "      <td>In</td>\n",
       "    </tr>\n",
       "    <tr>\n",
       "      <th>...</th>\n",
       "      <td>...</td>\n",
       "      <td>...</td>\n",
       "      <td>...</td>\n",
       "      <td>...</td>\n",
       "      <td>...</td>\n",
       "    </tr>\n",
       "    <tr>\n",
       "      <th>97601</th>\n",
       "      <td>__export__.temp_log_91076_7fbd08ca</td>\n",
       "      <td>Room Admin</td>\n",
       "      <td>28-07-2018 07:07</td>\n",
       "      <td>31</td>\n",
       "      <td>In</td>\n",
       "    </tr>\n",
       "    <tr>\n",
       "      <th>97602</th>\n",
       "      <td>__export__.temp_log_147733_62c03f31</td>\n",
       "      <td>Room Admin</td>\n",
       "      <td>28-07-2018 07:07</td>\n",
       "      <td>31</td>\n",
       "      <td>In</td>\n",
       "    </tr>\n",
       "    <tr>\n",
       "      <th>97603</th>\n",
       "      <td>__export__.temp_log_100386_84093a68</td>\n",
       "      <td>Room Admin</td>\n",
       "      <td>28-07-2018 07:06</td>\n",
       "      <td>31</td>\n",
       "      <td>In</td>\n",
       "    </tr>\n",
       "    <tr>\n",
       "      <th>97604</th>\n",
       "      <td>__export__.temp_log_123297_4d8e690b</td>\n",
       "      <td>Room Admin</td>\n",
       "      <td>28-07-2018 07:06</td>\n",
       "      <td>31</td>\n",
       "      <td>In</td>\n",
       "    </tr>\n",
       "    <tr>\n",
       "      <th>97605</th>\n",
       "      <td>__export__.temp_log_133741_32958703</td>\n",
       "      <td>Room Admin</td>\n",
       "      <td>28-07-2018 07:06</td>\n",
       "      <td>31</td>\n",
       "      <td>In</td>\n",
       "    </tr>\n",
       "  </tbody>\n",
       "</table>\n",
       "<p>97606 rows × 5 columns</p>\n",
       "</div>"
      ],
      "text/plain": [
       "                                        id  room_id/id        noted_date  \\\n",
       "0      __export__.temp_log_196134_bd201015  Room Admin  08-12-2018 09:30   \n",
       "1      __export__.temp_log_196131_7bca51bc  Room Admin  08-12-2018 09:30   \n",
       "2      __export__.temp_log_196127_522915e3  Room Admin  08-12-2018 09:29   \n",
       "3      __export__.temp_log_196128_be0919cf  Room Admin  08-12-2018 09:29   \n",
       "4      __export__.temp_log_196126_d30b72fb  Room Admin  08-12-2018 09:29   \n",
       "...                                    ...         ...               ...   \n",
       "97601   __export__.temp_log_91076_7fbd08ca  Room Admin  28-07-2018 07:07   \n",
       "97602  __export__.temp_log_147733_62c03f31  Room Admin  28-07-2018 07:07   \n",
       "97603  __export__.temp_log_100386_84093a68  Room Admin  28-07-2018 07:06   \n",
       "97604  __export__.temp_log_123297_4d8e690b  Room Admin  28-07-2018 07:06   \n",
       "97605  __export__.temp_log_133741_32958703  Room Admin  28-07-2018 07:06   \n",
       "\n",
       "       temp out/in  \n",
       "0        29     In  \n",
       "1        29     In  \n",
       "2        41    Out  \n",
       "3        41    Out  \n",
       "4        31     In  \n",
       "...     ...    ...  \n",
       "97601    31     In  \n",
       "97602    31     In  \n",
       "97603    31     In  \n",
       "97604    31     In  \n",
       "97605    31     In  \n",
       "\n",
       "[97606 rows x 5 columns]"
      ]
     },
     "metadata": {},
     "output_type": "display_data"
    }
   ],
   "source": [
    "import pandas as pd \n",
    "\n",
    "#Lendo a base de dados do IOT-temp do kaggle;\n",
    "database = pd.read_csv(\"IOT-temp.csv\")\n",
    "display(database)"
   ]
  },
  {
   "cell_type": "code",
   "execution_count": 18,
   "metadata": {},
   "outputs": [
    {
     "name": "stdout",
     "output_type": "stream",
     "text": [
      "<class 'pandas.core.frame.DataFrame'>\n",
      "RangeIndex: 97606 entries, 0 to 97605\n",
      "Data columns (total 5 columns):\n",
      " #   Column      Non-Null Count  Dtype \n",
      "---  ------      --------------  ----- \n",
      " 0   id          97606 non-null  object\n",
      " 1   room_id/id  97606 non-null  object\n",
      " 2   noted_date  97606 non-null  object\n",
      " 3   temp        97606 non-null  int64 \n",
      " 4   out/in      97606 non-null  object\n",
      "dtypes: int64(1), object(4)\n",
      "memory usage: 3.7+ MB\n"
     ]
    },
    {
     "data": {
      "text/plain": [
       "None"
      ]
     },
     "metadata": {},
     "output_type": "display_data"
    },
    {
     "name": "stdout",
     "output_type": "stream",
     "text": [
      "<class 'pandas.core.frame.DataFrame'>\n",
      "RangeIndex: 97606 entries, 0 to 97605\n",
      "Data columns (total 4 columns):\n",
      " #   Column      Non-Null Count  Dtype \n",
      "---  ------      --------------  ----- \n",
      " 0   room_id/id  97606 non-null  object\n",
      " 1   noted_date  97606 non-null  object\n",
      " 2   temp        97606 non-null  int64 \n",
      " 3   out/in      97606 non-null  object\n",
      "dtypes: int64(1), object(3)\n",
      "memory usage: 3.0+ MB\n"
     ]
    },
    {
     "data": {
      "text/plain": [
       "None"
      ]
     },
     "metadata": {},
     "output_type": "display_data"
    }
   ],
   "source": [
    "#Para visualizar os tipos de dados;\n",
    "#Vendo a base o que podemos observar que todas as linhas estão preenchidas, não sendo necessário retirar dados nulos;\n",
    "#Apenas a coluna int64 é inteiro, enquanto os demais são object;\n",
    "display(database.info())\n",
    "\n",
    "#Como a coluna id indica apenas a quantidade de ids registrados e essa contagem já será feita, essa informação pode ser retirada.\n",
    "# linha -> axis = 0\n",
    "# coluna -> axis = 1\n",
    "database = database.drop(\"id\", axis = 1)\n",
    "display(database.info())\n"
   ]
  },
  {
   "cell_type": "code",
   "execution_count": 22,
   "metadata": {},
   "outputs": [
    {
     "data": {
      "text/plain": [
       "room_id/id\n",
       "Room Admin    97606\n",
       "Name: count, dtype: int64"
      ]
     },
     "metadata": {},
     "output_type": "display_data"
    },
    {
     "data": {
      "text/plain": [
       "noted_date\n",
       "12-09-2018 03:09    65\n",
       "09-09-2018 16:24    62\n",
       "09-09-2018 17:31    53\n",
       "11-09-2018 19:42    50\n",
       "09-09-2018 16:08    50\n",
       "                    ..\n",
       "22-11-2018 21:23     1\n",
       "22-11-2018 21:21     1\n",
       "21-10-2018 05:41     1\n",
       "21-10-2018 05:45     1\n",
       "21-10-2018 21:54     1\n",
       "Name: count, Length: 27920, dtype: int64"
      ]
     },
     "metadata": {},
     "output_type": "display_data"
    },
    {
     "data": {
      "text/plain": [
       "noted_date\n",
       "12-09-2018 03:09    0.1%\n",
       "09-09-2018 16:24    0.1%\n",
       "09-09-2018 17:31    0.1%\n",
       "11-09-2018 19:42    0.1%\n",
       "09-09-2018 16:08    0.1%\n",
       "                    ... \n",
       "22-11-2018 21:23    0.0%\n",
       "22-11-2018 21:21    0.0%\n",
       "21-10-2018 05:41    0.0%\n",
       "21-10-2018 05:45    0.0%\n",
       "21-10-2018 21:54    0.0%\n",
       "Name: proportion, Length: 27920, dtype: object"
      ]
     },
     "metadata": {},
     "output_type": "display_data"
    },
    {
     "data": {
      "text/plain": [
       "temp\n",
       "39    10203\n",
       "28     8831\n",
       "29     7922\n",
       "40     7798\n",
       "31     7236\n",
       "30     6614\n",
       "37     5723\n",
       "32     5408\n",
       "27     4631\n",
       "41     4354\n",
       "36     3965\n",
       "38     3867\n",
       "42     3447\n",
       "33     3437\n",
       "34     2613\n",
       "43     2004\n",
       "44     1774\n",
       "35     1582\n",
       "45     1508\n",
       "46     1201\n",
       "47     1044\n",
       "48      971\n",
       "26      699\n",
       "49      401\n",
       "25      224\n",
       "24       66\n",
       "50       55\n",
       "22       19\n",
       "23        5\n",
       "21        2\n",
       "51        2\n",
       "Name: count, dtype: int64"
      ]
     },
     "metadata": {},
     "output_type": "display_data"
    },
    {
     "data": {
      "text/plain": [
       "temp\n",
       "39    10.5%\n",
       "28     9.0%\n",
       "29     8.1%\n",
       "40     8.0%\n",
       "31     7.4%\n",
       "30     6.8%\n",
       "37     5.9%\n",
       "32     5.5%\n",
       "27     4.7%\n",
       "41     4.5%\n",
       "36     4.1%\n",
       "38     4.0%\n",
       "42     3.5%\n",
       "33     3.5%\n",
       "34     2.7%\n",
       "43     2.1%\n",
       "44     1.8%\n",
       "35     1.6%\n",
       "45     1.5%\n",
       "46     1.2%\n",
       "47     1.1%\n",
       "48     1.0%\n",
       "26     0.7%\n",
       "49     0.4%\n",
       "25     0.2%\n",
       "24     0.1%\n",
       "50     0.1%\n",
       "22     0.0%\n",
       "23     0.0%\n",
       "21     0.0%\n",
       "51     0.0%\n",
       "Name: proportion, dtype: object"
      ]
     },
     "metadata": {},
     "output_type": "display_data"
    },
    {
     "data": {
      "text/plain": [
       "out/in\n",
       "Out    77261\n",
       "In     20345\n",
       "Name: count, dtype: int64"
      ]
     },
     "metadata": {},
     "output_type": "display_data"
    },
    {
     "data": {
      "text/plain": [
       "out/in\n",
       "Out    79.2%\n",
       "In     20.8%\n",
       "Name: proportion, dtype: object"
      ]
     },
     "metadata": {},
     "output_type": "display_data"
    }
   ],
   "source": [
    "#Verificar a quantidade dos tipos de room/id para verificar se existe algum grupo além de room admin\n",
    "display(database[\"room_id/id\"].value_counts())\n",
    "#Verificar os tipos de noted_date para verificar a quantidade \n",
    "display(database[\"noted_date\"].value_counts())\n",
    "display(database[\"noted_date\"].value_counts(normalize=True).map(\"{:.1%}\".format))\n",
    "#Verificar os tipos de temp para verificar a quantidade \n",
    "display(database[\"temp\"].value_counts())\n",
    "display(database[\"temp\"].value_counts(normalize=True).map(\"{:.1%}\".format))\n",
    "#Verificar os tipos de out/in para verificar a quantidade de out/in \n",
    "display(database[\"out/in\"].value_counts())\n",
    "#Verificar o percentual de out/in\n",
    "display(database[\"out/in\"].value_counts(normalize=True).map(\"{:.1%}\".format))"
   ]
  },
  {
   "cell_type": "code",
   "execution_count": 7,
   "metadata": {},
   "outputs": [],
   "source": [
    "\n"
   ]
  }
 ],
 "metadata": {
  "kernelspec": {
   "display_name": "Python 3",
   "language": "python",
   "name": "python3"
  },
  "language_info": {
   "codemirror_mode": {
    "name": "ipython",
    "version": 3
   },
   "file_extension": ".py",
   "mimetype": "text/x-python",
   "name": "python",
   "nbconvert_exporter": "python",
   "pygments_lexer": "ipython3",
   "version": "3.11.1"
  },
  "orig_nbformat": 4
 },
 "nbformat": 4,
 "nbformat_minor": 2
}
